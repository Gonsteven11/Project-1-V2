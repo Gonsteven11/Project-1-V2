{
 "cells": [
  {
   "cell_type": "code",
   "execution_count": 33,
   "id": "93d106b0",
   "metadata": {},
   "outputs": [],
   "source": [
    "#Import Dependencies\n",
    "import matplotlib.pyplot as plt\n",
    "import numpy as np\n",
    "import pandas as pd"
   ]
  },
  {
   "cell_type": "code",
   "execution_count": 34,
   "id": "e39b2c07",
   "metadata": {
    "scrolled": true
   },
   "outputs": [
    {
     "data": {
      "text/html": [
       "<div>\n",
       "<style scoped>\n",
       "    .dataframe tbody tr th:only-of-type {\n",
       "        vertical-align: middle;\n",
       "    }\n",
       "\n",
       "    .dataframe tbody tr th {\n",
       "        vertical-align: top;\n",
       "    }\n",
       "\n",
       "    .dataframe thead th {\n",
       "        text-align: right;\n",
       "    }\n",
       "</style>\n",
       "<table border=\"1\" class=\"dataframe\">\n",
       "  <thead>\n",
       "    <tr style=\"text-align: right;\">\n",
       "      <th></th>\n",
       "      <th>Region</th>\n",
       "      <th>Year</th>\n",
       "      <th>Quarter</th>\n",
       "      <th>Not SA  HPI</th>\n",
       "      <th>SA HPI</th>\n",
       "      <th>Not SA HPI Change Over Previous Quarter</th>\n",
       "      <th>SA HPI Change Over Previous Quarter</th>\n",
       "      <th>Not SA HPI Change Over Previous 4 Quarters</th>\n",
       "      <th>SA HPI Change Over Previous 4 Quarters</th>\n",
       "      <th>Unnamed: 9</th>\n",
       "    </tr>\n",
       "  </thead>\n",
       "  <tbody>\n",
       "    <tr>\n",
       "      <th>0</th>\n",
       "      <td>USA</td>\n",
       "      <td>2005</td>\n",
       "      <td>1</td>\n",
       "      <td>200.11</td>\n",
       "      <td>200.70</td>\n",
       "      <td>2.06%</td>\n",
       "      <td>2.48%</td>\n",
       "      <td>10.39%</td>\n",
       "      <td>10.43%</td>\n",
       "      <td>NaN</td>\n",
       "    </tr>\n",
       "    <tr>\n",
       "      <th>1</th>\n",
       "      <td>USA</td>\n",
       "      <td>2005</td>\n",
       "      <td>2</td>\n",
       "      <td>207.74</td>\n",
       "      <td>206.02</td>\n",
       "      <td>3.81%</td>\n",
       "      <td>2.65%</td>\n",
       "      <td>10.64%</td>\n",
       "      <td>10.58%</td>\n",
       "      <td>NaN</td>\n",
       "    </tr>\n",
       "    <tr>\n",
       "      <th>2</th>\n",
       "      <td>USA</td>\n",
       "      <td>2005</td>\n",
       "      <td>3</td>\n",
       "      <td>213.57</td>\n",
       "      <td>211.45</td>\n",
       "      <td>2.81%</td>\n",
       "      <td>2.63%</td>\n",
       "      <td>10.67%</td>\n",
       "      <td>10.64%</td>\n",
       "      <td>NaN</td>\n",
       "    </tr>\n",
       "    <tr>\n",
       "      <th>3</th>\n",
       "      <td>USA</td>\n",
       "      <td>2005</td>\n",
       "      <td>4</td>\n",
       "      <td>216.06</td>\n",
       "      <td>215.91</td>\n",
       "      <td>1.17%</td>\n",
       "      <td>2.11%</td>\n",
       "      <td>10.20%</td>\n",
       "      <td>10.24%</td>\n",
       "      <td>NaN</td>\n",
       "    </tr>\n",
       "    <tr>\n",
       "      <th>4</th>\n",
       "      <td>USA</td>\n",
       "      <td>2006</td>\n",
       "      <td>1</td>\n",
       "      <td>218.36</td>\n",
       "      <td>219.10</td>\n",
       "      <td>1.07%</td>\n",
       "      <td>1.48%</td>\n",
       "      <td>9.12%</td>\n",
       "      <td>9.17%</td>\n",
       "      <td>NaN</td>\n",
       "    </tr>\n",
       "  </tbody>\n",
       "</table>\n",
       "</div>"
      ],
      "text/plain": [
       "   Region    Year   Quarter  Not SA  HPI  SA HPI  \\\n",
       "0     USA     2005        1       200.11  200.70   \n",
       "1     USA     2005        2       207.74  206.02   \n",
       "2     USA     2005        3       213.57  211.45   \n",
       "3     USA     2005        4       216.06  215.91   \n",
       "4     USA     2006        1       218.36  219.10   \n",
       "\n",
       "  Not SA HPI Change Over Previous Quarter SA HPI Change Over Previous Quarter  \\\n",
       "0                                   2.06%                               2.48%   \n",
       "1                                   3.81%                               2.65%   \n",
       "2                                   2.81%                               2.63%   \n",
       "3                                   1.17%                               2.11%   \n",
       "4                                   1.07%                               1.48%   \n",
       "\n",
       "  Not SA HPI Change Over Previous 4 Quarters  \\\n",
       "0                                     10.39%   \n",
       "1                                     10.64%   \n",
       "2                                     10.67%   \n",
       "3                                     10.20%   \n",
       "4                                      9.12%   \n",
       "\n",
       "  SA HPI Change Over Previous 4 Quarters  Unnamed: 9  \n",
       "0                                 10.43%         NaN  \n",
       "1                                 10.58%         NaN  \n",
       "2                                 10.64%         NaN  \n",
       "3                                 10.24%         NaN  \n",
       "4                                  9.17%         NaN  "
      ]
     },
     "execution_count": 34,
     "metadata": {},
     "output_type": "execute_result"
    }
   ],
   "source": [
    "#Create a path to csv and read it into a Pandas DataFrame\n",
    "csv_path = \"C:/Users/travi/OneDrive/Desktop/Project-1-V2/HPI_PO_summary.csv\"\n",
    "hpi_df = pd.read_csv(csv_path)\n",
    "\n",
    "hpi_df.head()"
   ]
  },
  {
   "cell_type": "code",
   "execution_count": 35,
   "id": "b6939ffd",
   "metadata": {},
   "outputs": [
    {
     "data": {
      "image/png": "[encoded data removed]",
      "text/plain": [
       "<Figure size 432x288 with 1 Axes>"
      ]
     },
     "metadata": {
      "needs_background": "light"
     },
     "output_type": "display_data"
    }
   ],
   "source": [
    "Quarter = [\"1\", \"2\", \"3\", \"4\"]\n",
    "HPI= [209.89,207.19,202.21,194.21]\n",
    "plt.plot(Quarter,HPI)\n",
    "plt.title('HPI Vs Quarter')\n",
    "plt.xlabel('2008')\n",
    "plt.ylabel('HPI')\n",
    "plt.show()"
   ]
  },
  {
   "cell_type": "code",
   "execution_count": 36,
   "id": "d8e6bac0",
   "metadata": {},
   "outputs": [
    {
     "data": {
      "image/png": "[encoded data removed]",
      "text/plain": [
       "<Figure size 432x288 with 1 Axes>"
      ]
     },
     "metadata": {
      "needs_background": "light"
     },
     "output_type": "display_data"
    }
   ],
   "source": [
    "Quarter = [\"1\", \"2\", \"3\", \"4\"]\n",
    "HPI= [315.1,335.69,349.5,357.98]\n",
    "plt.plot(Quarter,HPI)\n",
    "plt.title('HPI Vs Quarter')\n",
    "plt.xlabel('2021')\n",
    "plt.ylabel('HPI')\n",
    "plt.show()"
   ]
  }
 ],
 "metadata": {
  "kernelspec": {
   "display_name": "Python 3 (ipykernel)",
   "language": "python",
   "name": "python3"
  },
  "language_info": {
   "codemirror_mode": {
    "name": "ipython",
    "version": 3
   },
   "file_extension": ".py",
   "mimetype": "text/x-python",
   "name": "python",
   "nbconvert_exporter": "python",
   "pygments_lexer": "ipython3",
   "version": "3.9.12"
  }
 },
 "nbformat": 4,
 "nbformat_minor": 5
}
