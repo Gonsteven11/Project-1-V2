{
 "cells": [
  {
   "cell_type": "code",
   "execution_count": 1,
   "id": "87a79d91",
   "metadata": {},
   "outputs": [],
   "source": [
    "import matplotlib.pyplot as plt\n",
    "import numpy as np\n",
    "import pandas as pd"
   ]
  },
  {
   "cell_type": "code",
   "execution_count": 2,
   "id": "91152426",
   "metadata": {},
   "outputs": [
    {
     "data": {
      "text/html": [
       "<div>\n",
       "<style scoped>\n",
       "    .dataframe tbody tr th:only-of-type {\n",
       "        vertical-align: middle;\n",
       "    }\n",
       "\n",
       "    .dataframe tbody tr th {\n",
       "        vertical-align: top;\n",
       "    }\n",
       "\n",
       "    .dataframe thead th {\n",
       "        text-align: right;\n",
       "    }\n",
       "</style>\n",
       "<table border=\"1\" class=\"dataframe\">\n",
       "  <thead>\n",
       "    <tr style=\"text-align: right;\">\n",
       "      <th></th>\n",
       "      <th>|  series id  | year | period | value  |                    footnotes                     |</th>\n",
       "    </tr>\n",
       "  </thead>\n",
       "  <tbody>\n",
       "    <tr>\n",
       "      <th>0</th>\n",
       "      <td>| LNS11000000 | 2022 |  M09   | 164689 |      ...</td>\n",
       "    </tr>\n",
       "    <tr>\n",
       "      <th>1</th>\n",
       "      <td>| LNS11000000 | 2022 |  M08   | 164746 |      ...</td>\n",
       "    </tr>\n",
       "    <tr>\n",
       "      <th>2</th>\n",
       "      <td>| LNS11000000 | 2022 |  M07   | 163960 |      ...</td>\n",
       "    </tr>\n",
       "    <tr>\n",
       "      <th>3</th>\n",
       "      <td>| LNS11000000 | 2022 |  M06   | 164023 |      ...</td>\n",
       "    </tr>\n",
       "    <tr>\n",
       "      <th>4</th>\n",
       "      <td>| LNS11000000 | 2022 |  M05   | 164376 |      ...</td>\n",
       "    </tr>\n",
       "    <tr>\n",
       "      <th>5</th>\n",
       "      <td>| LNS11000000 | 2022 |  M04   | 164046 |      ...</td>\n",
       "    </tr>\n",
       "    <tr>\n",
       "      <th>6</th>\n",
       "      <td>| LNS11000000 | 2022 |  M03   | 164409 |      ...</td>\n",
       "    </tr>\n",
       "    <tr>\n",
       "      <th>7</th>\n",
       "      <td>| LNS11000000 | 2022 |  M02   | 163991 |      ...</td>\n",
       "    </tr>\n",
       "    <tr>\n",
       "      <th>8</th>\n",
       "      <td>| LNS11000000 | 2022 |  M01   | 163687 | Data ...</td>\n",
       "    </tr>\n",
       "  </tbody>\n",
       "</table>\n",
       "</div>"
      ],
      "text/plain": [
       "  |  series id  | year | period | value  |                    footnotes                     |\n",
       "0  | LNS11000000 | 2022 |  M09   | 164689 |      ...                                         \n",
       "1  | LNS11000000 | 2022 |  M08   | 164746 |      ...                                         \n",
       "2  | LNS11000000 | 2022 |  M07   | 163960 |      ...                                         \n",
       "3  | LNS11000000 | 2022 |  M06   | 164023 |      ...                                         \n",
       "4  | LNS11000000 | 2022 |  M05   | 164376 |      ...                                         \n",
       "5  | LNS11000000 | 2022 |  M04   | 164046 |      ...                                         \n",
       "6  | LNS11000000 | 2022 |  M03   | 164409 |      ...                                         \n",
       "7  | LNS11000000 | 2022 |  M02   | 163991 |      ...                                         \n",
       "8  | LNS11000000 | 2022 |  M01   | 163687 | Data ...                                         "
      ]
     },
     "execution_count": 2,
     "metadata": {},
     "output_type": "execute_result"
    }
   ],
   "source": [
    "labor_force_data = pd.read_csv(\"Civilian Labor Force.csv\")\n",
    "labor_force_data"
   ]
  },
  {
   "cell_type": "code",
   "execution_count": 4,
   "id": "3bf61e6a",
   "metadata": {},
   "outputs": [
    {
     "data": {
      "image/png": "[encoded data removed]",
      "text/plain": [
       "<Figure size 432x288 with 1 Axes>"
      ]
     },
     "metadata": {
      "needs_background": "light"
     },
     "output_type": "display_data"
    }
   ],
   "source": [
    "Month = [\"Jan\", \"Feb\", \"Mar\", \"Apr\", \"May\", \"Jun\", \"Jul\", \"Aug\", \"Sep\"]\n",
    "laborforce_count = [163.69, 163.99, 164.41, 164.05, 164.38, 164.02, 163.96, 164.75, 164.69]\n",
    "plt.plot(Month, laborforce_count)\n",
    "plt.title('Labor Force Count Vs Month')\n",
    "plt.xlabel('2022')\n",
    "plt.ylabel('Labor Force Count (Millions)')\n",
    "plt.show()"
   ]
  },
  {
   "cell_type": "code",
   "execution_count": null,
   "id": "a15d4bd7",
   "metadata": {},
   "outputs": [],
   "source": []
  }
 ],
 "metadata": {
  "kernelspec": {
   "display_name": "Python [conda env:PythonData] *",
   "language": "python",
   "name": "conda-env-PythonData-py"
  },
  "language_info": {
   "codemirror_mode": {
    "name": "ipython",
    "version": 3
   },
   "file_extension": ".py",
   "mimetype": "text/x-python",
   "name": "python",
   "nbconvert_exporter": "python",
   "pygments_lexer": "ipython3",
   "version": "3.7.7"
  }
 },
 "nbformat": 4,
 "nbformat_minor": 5
}
