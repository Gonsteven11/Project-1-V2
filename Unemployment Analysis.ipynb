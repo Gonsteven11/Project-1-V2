{
 "cells": [
  {
   "cell_type": "code",
   "execution_count": 46,
   "id": "589f33d1",
   "metadata": {},
   "outputs": [],
   "source": [
    "import matplotlib.pyplot as plt\n",
    "import numpy as np\n",
    "import pandas as pd"
   ]
  },
  {
   "cell_type": "code",
   "execution_count": 47,
   "id": "12284d75",
   "metadata": {
    "scrolled": false
   },
   "outputs": [
    {
     "data": {
      "text/html": [
       "<div>\n",
       "<style scoped>\n",
       "    .dataframe tbody tr th:only-of-type {\n",
       "        vertical-align: middle;\n",
       "    }\n",
       "\n",
       "    .dataframe tbody tr th {\n",
       "        vertical-align: top;\n",
       "    }\n",
       "\n",
       "    .dataframe thead th {\n",
       "        text-align: right;\n",
       "    }\n",
       "</style>\n",
       "<table border=\"1\" class=\"dataframe\">\n",
       "  <thead>\n",
       "    <tr style=\"text-align: right;\">\n",
       "      <th></th>\n",
       "      <th>series id</th>\n",
       "      <th>year</th>\n",
       "      <th>period</th>\n",
       "      <th>value</th>\n",
       "      <th>footnotes</th>\n",
       "    </tr>\n",
       "  </thead>\n",
       "  <tbody>\n",
       "    <tr>\n",
       "      <th>0</th>\n",
       "      <td>LNS13000000</td>\n",
       "      <td>2022</td>\n",
       "      <td>M09</td>\n",
       "      <td>5753</td>\n",
       "      <td>NaN</td>\n",
       "    </tr>\n",
       "    <tr>\n",
       "      <th>1</th>\n",
       "      <td>LNS13000000</td>\n",
       "      <td>2022</td>\n",
       "      <td>M08</td>\n",
       "      <td>6014</td>\n",
       "      <td>NaN</td>\n",
       "    </tr>\n",
       "    <tr>\n",
       "      <th>2</th>\n",
       "      <td>LNS13000000</td>\n",
       "      <td>2022</td>\n",
       "      <td>M07</td>\n",
       "      <td>5670</td>\n",
       "      <td>NaN</td>\n",
       "    </tr>\n",
       "    <tr>\n",
       "      <th>3</th>\n",
       "      <td>LNS13000000</td>\n",
       "      <td>2022</td>\n",
       "      <td>M06</td>\n",
       "      <td>5912</td>\n",
       "      <td>NaN</td>\n",
       "    </tr>\n",
       "    <tr>\n",
       "      <th>4</th>\n",
       "      <td>LNS13000000</td>\n",
       "      <td>2022</td>\n",
       "      <td>M05</td>\n",
       "      <td>5950</td>\n",
       "      <td>NaN</td>\n",
       "    </tr>\n",
       "    <tr>\n",
       "      <th>5</th>\n",
       "      <td>LNS13000000</td>\n",
       "      <td>2022</td>\n",
       "      <td>M04</td>\n",
       "      <td>5941</td>\n",
       "      <td>NaN</td>\n",
       "    </tr>\n",
       "    <tr>\n",
       "      <th>6</th>\n",
       "      <td>LNS13000000</td>\n",
       "      <td>2022</td>\n",
       "      <td>M03</td>\n",
       "      <td>5952</td>\n",
       "      <td>NaN</td>\n",
       "    </tr>\n",
       "    <tr>\n",
       "      <th>7</th>\n",
       "      <td>LNS13000000</td>\n",
       "      <td>2022</td>\n",
       "      <td>M02</td>\n",
       "      <td>6270</td>\n",
       "      <td>NaN</td>\n",
       "    </tr>\n",
       "    <tr>\n",
       "      <th>8</th>\n",
       "      <td>LNS13000000</td>\n",
       "      <td>2022</td>\n",
       "      <td>M01</td>\n",
       "      <td>6513</td>\n",
       "      <td>NaN</td>\n",
       "    </tr>\n",
       "  </tbody>\n",
       "</table>\n",
       "</div>"
      ],
      "text/plain": [
       "     series id  year period  value  footnotes\n",
       "0  LNS13000000  2022    M09   5753        NaN\n",
       "1  LNS13000000  2022    M08   6014        NaN\n",
       "2  LNS13000000  2022    M07   5670        NaN\n",
       "3  LNS13000000  2022    M06   5912        NaN\n",
       "4  LNS13000000  2022    M05   5950        NaN\n",
       "5  LNS13000000  2022    M04   5941        NaN\n",
       "6  LNS13000000  2022    M03   5952        NaN\n",
       "7  LNS13000000  2022    M02   6270        NaN\n",
       "8  LNS13000000  2022    M01   6513        NaN"
      ]
     },
     "execution_count": 47,
     "metadata": {},
     "output_type": "execute_result"
    }
   ],
   "source": [
    "unemployment_data = pd.read_csv(\"Civilian_Unemployment.csv\")\n",
    "unemployment_data"
   ]
  },
  {
   "cell_type": "code",
   "execution_count": 58,
   "id": "b95fe122",
   "metadata": {},
   "outputs": [
    {
     "data": {
      "image/png": "[encoded data removed]",
      "text/plain": [
       "<Figure size 432x288 with 1 Axes>"
      ]
     },
     "metadata": {
      "needs_background": "light"
     },
     "output_type": "display_data"
    }
   ],
   "source": [
    "Month = [\"Jan\", \"Feb\", \"Mar\", \"Apr\", \"May\", \"Jun\", \"Jul\", \"Aug\", \"Sep\"]\n",
    "Unemployment_count = [6.51, 6.27, 5.95, 5.94, 5.95, 5.91, 5.67, 6.01, 5.76]\n",
    "plt.plot(Month, Unemployment_count)\n",
    "plt.title('Unemployment Count Vs Month')\n",
    "plt.xlabel('2022')\n",
    "plt.ylabel('Unemployment Count (Millions)')\n",
    "plt.show()"
   ]
  },
  {
   "cell_type": "code",
   "execution_count": null,
   "id": "cee49e5d",
   "metadata": {},
   "outputs": [],
   "source": []
  }
 ],
 "metadata": {
  "kernelspec": {
   "display_name": "Python [conda env:PythonData] *",
   "language": "python",
   "name": "conda-env-PythonData-py"
  },
  "language_info": {
   "codemirror_mode": {
    "name": "ipython",
    "version": 3
   },
   "file_extension": ".py",
   "mimetype": "text/x-python",
   "name": "python",
   "nbconvert_exporter": "python",
   "pygments_lexer": "ipython3",
   "version": "3.7.7"
  }
 },
 "nbformat": 4,
 "nbformat_minor": 5
}
