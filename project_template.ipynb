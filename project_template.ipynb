{
 "cells": [
  {
   "cell_type": "code",
   "execution_count": null,
   "id": "c23ce9d2",
   "metadata": {},
   "outputs": [],
   "source": [
    "## Project Format"
   ]
  },
  {
   "cell_type": "code",
   "execution_count": null,
   "id": "597d686b",
   "metadata": {},
   "outputs": [],
   "source": [
    "# 1. Define questions"
   ]
  },
  {
   "cell_type": "code",
   "execution_count": null,
   "id": "7185e678",
   "metadata": {},
   "outputs": [],
   "source": [
    "# 2. Explore answer 1\n",
    "    # 2 visualizations"
   ]
  },
  {
   "cell_type": "code",
   "execution_count": null,
   "id": "41920a5f",
   "metadata": {},
   "outputs": [],
   "source": [
    "# 3. Explore answer 2\n",
    "    # 2 visualizations"
   ]
  },
  {
   "cell_type": "code",
   "execution_count": null,
   "id": "c602b601",
   "metadata": {},
   "outputs": [],
   "source": [
    "# 4. Explore answer 3\n",
    "    # 2 visualizations"
   ]
  },
  {
   "cell_type": "code",
   "execution_count": null,
   "id": "be64d945",
   "metadata": {},
   "outputs": [],
   "source": [
    "#5. Conclusions from data"
   ]
  }
 ],
 "metadata": {
  "kernelspec": {
   "display_name": "PythonData",
   "language": "python",
   "name": "pythondata"
  },
  "language_info": {
   "codemirror_mode": {
    "name": "ipython",
    "version": 3
   },
   "file_extension": ".py",
   "mimetype": "text/x-python",
   "name": "python",
   "nbconvert_exporter": "python",
   "pygments_lexer": "ipython3",
   "version": "3.9.12"
  }
 },
 "nbformat": 4,
 "nbformat_minor": 5
}
